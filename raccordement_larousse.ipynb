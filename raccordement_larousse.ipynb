{
 "cells": [
  {
   "cell_type": "markdown",
   "id": "5e296bbc-4604-42f8-9439-a5ff48e86cd4",
   "metadata": {},
   "source": [
    "# Raccordement du *Petit Larousse illustré* de 1905 à wikidata\n",
    "par Pierre Nugues\n",
    "\n",
    "> Un hommage à mon père que cet ouvrage faisait rêver."
   ]
  },
  {
   "cell_type": "markdown",
   "id": "64c0d5f5-1327-413c-8fb6-8bd96652f3d2",
   "metadata": {},
   "source": [
    "## Introdution\n",
    "Le *Petit Larousse illustré* est un livre majeur de la lexicographie française. Sa première édition date de 1905 et elle s'est poursuivie annuellement jusqu'à nos jours. Si la valeur des articles de 1905 reste intacte, certaines descriptions ont maintenant une dimension plus historique que contemporaine. Dans ce texte, j'explique comment les rattacher aux sources de données actuelles. Pour ceci, j'ai raccordé chaque article des noms propres du *Larousse*, la 3e partie du dictionnaire, après les noms communs et les pages roses, à leur équivalent wikidata. \n",
    "\n",
    "Je donne brièvement les principes du raccordement et comment exploiter les données qui en résultent. Tous les fichiers et programmes sont disponibles à la page suivante : `https://github.com/pnugues/petit_larousse_1905`"
   ]
  },
  {
   "cell_type": "markdown",
   "id": "7bb2dbbb-6144-4dc5-83c3-1fb3951d0e39",
   "metadata": {},
   "source": [
    "## Wikidata\n",
    "Comme points de raccordement, j'ai utilisé des éléments wikidata. Wikidata est un graphe de données conçu au départ pour gérer les versions multilingues de wikipedia, comme par exemple le français et l'italien. Pour ceci, wikidata attribue un numéro unique à chaque chose faisant l'object d'un article wikipedia dans n'importe quelle langue. Quelque soit la langue, le numéro d'une même chose est identique. \n",
    "\n",
    "Pierre Larousse a le numéro wikidata `Q313709`, par exemple, et il est relié aux versions française, anglaise, italienne, russe (Ларусс, Пьер) ou chinoise (皮埃尔·拉鲁斯) de wikipedia. En plus d'être un lien avec wikipedia, wikidata contient des informations structurées qui vont dépendre de la nature de la chose décrite : Pierre Larousse a comme nature d'être un humain; il a donc une date et un lieu de naissance, de décès, etc. En fonction de leur notoriété, certain éléments wikidata contiennent beaucoup d'informations, d'autres moins ou aucune. Pour Pierre Larousse, on peut lire ces informations à la page : `https://www.wikidata.org/wiki/Q313709`\n",
    "\n",
    "Wikidata relie aussi les articles wikipedia avec d'autres sites de la galaxie wikimedia comme wikisource ou commons. Enfin, beaucoup d'éléments wikidata ont des liens vers d'autres bases de données, comme SUDOC, ou la Bibliothèque nationale en France, qui permettent d'extraire d'autres informations.\n",
    "\n",
    "Cette situation idéale souffre cependant de quelques exceptions, car certains éléments wikidata n'ont aucun lien externe, ont une mauvaise structure ou sont erronés."
   ]
  },
  {
   "cell_type": "markdown",
   "id": "ded48496-28b1-48b4-aef4-d7712807286c",
   "metadata": {},
   "source": [
    "## La terminologie\n",
    "Dans mon texte, j'ai essayé d'utiliser un vocabulaire compréhensible par chacun et éviter le *gloubi-goulba* indigeste ou les faux sens. Mon but principal est de raccorder des noms propres à des identificateurs uniques. Dans la littérature anglaise, on appellerait cette opération : *entity linking* ou bien *named entity linking*. Leurs calques correspondraient à *liaison d'entité* et à l'affreux *liaison d'entités nommées*. J'ai rejeté ces deux termes, voici pourquoi.\n",
    "\n",
    "Dans son *Vocabulaire technique et critique de la philosophie*, Lalande (1926) donne trois sens à *ENTITÉ*, __A__, __B__ et __C__, et pour le sens __C__ qui nous concerne ici, la définition :\n",
    "> Un « quelque chose »; un objet de pensée que l'on conçoit comme un être dépourvu de détermination particulière.\n",
    "\n",
    "puis il ajoute dans le paragraphe *CRITIQUE* qui suit immédiatement que \n",
    "> Ce terme est surtout employé au sens __C__ par les logiciens anglais, par suite de ce fait que dans leur langue le mot *entity* est d'un usage courant, et possède un sens concret : « un être, une chose ». Il y aurait lieu de ne pas suivre cet usage qui manque de clarté, et d'employer plutôt, suivant les cas, les désignations plus précise de classe, d'individu ou de relation.\n",
    "\n",
    "Cette explication est limpide et j'ai suivi ce maître.\n",
    "\n",
    "Quant au terme *named entity*, qui est pire à mon avis, il apparaît dans le jargon du DARPA au milieu des années 1990 où il correspondait *grosso modo* à un nom propre : l'expression d'une chose qui a un nom à soi (en propre); le symbole d'une constante en logique des prédicats. La mention *Pierre Larousse* en est un exemple qui s'oppose à un nom commun, une chose dont le nom n'est qu'une propriété, comme *dictionnaire*. Le terme *named entity* est ensuite devenu beaucoup plus général et d'un emploi abusif, car le DARPA y a ajouté des quantités numériques et des dates, qui sont bien loin de la notion initiale, même en anglais."
   ]
  },
  {
   "cell_type": "markdown",
   "id": "06dba76c-ed0d-4f0f-b30e-bf1836633e7c",
   "metadata": {},
   "source": [
    "## La méthode d'annotation\n",
    "J'ai raccordé tous les articles manuellement, ce qui m'a pris plusieurs semaines. Certains noms propres sont faciles à analyser comme les noms de personnes. D'autres, comme les noms de pays, sont plus ambigus car les choses qu'ils décrivent peuvent changer de nature et de forme tout en gardant le même terme. Dans la mesure du possible, j'ai choisi l'élément wikidata qui sont le plus proche de l'article du *Larousse* dans son contexte historique. Par exemple, pour \n",
    "\n",
    "> GRANDE-BRETAGNE et IRLANDE (Royaume-Uni de)\n",
    "\n",
    "j'ai choisi l'identifiant Q174193 qui décrit un État ayant existé de 1801 à 1927. C'est le cas aussi des communes, où j'ai privilégié les anciennes communes sur les nouvelles.\n",
    "\n",
    "Certains articles contiennent des listes de personnes ou d'œuvres d'art, comme par exemple\n",
    "> ABAD Ier [bad'], premier roi maure de Séville, et chef de la dynastie des Abadites ; il régna de 1023 à 1042. — Son fils Abad II régna de 1042 à 1069, et son petit-fils, Abad III, de 1069 à 1095.\n",
    "\n",
    "À quelques exceptions près, je n'ai raccordé que le premier nom de la liste, ceci par manque de temps. Dans mon fichier d'annotation, l'élément wikidata est néanmoins une liste, ceci pour pouvoir compléter plus tard le raccordement avec le reste de la liste. Dans l'exemple précédent, j'ai raccordé les trois éléments : `['Q305795', 'Q30556', 'Q299578']`.\n",
    "\n",
    "Enfin, faute de temps toujours, je n'ai pas pu faire valider mes annotation pas d'autres annotateurs. Toutes les suggestions de correction ou d'amélioration sont donc les bienvenues."
   ]
  },
  {
   "cell_type": "markdown",
   "id": "e571e03d-2994-47f1-9820-3eb15f206afa",
   "metadata": {},
   "source": [
    "## Source de données\n",
    "Comme source de données, j'ai récupéré le texte en ligne de `Nénufar`, un projet dirigé par Hervé Bohbot qu'on peut consulter ici : http://nenufar.huma-num.fr/ (Bohbot et al. 2018). Il fait suite à une première numérisation et structuration décrite dans Manuélian et al. (2010).\n",
    "\n",
    "1. Hervé Bohbot, Francesca Frontini, Giancarlo Luxardo, Mohamed Khemakhem and Laurent Romary (2018) Presenting the Nenufar Project: A Diachronic Digital Edition of the Petit Larousse Illustré, in *Proceedings of the Eleventh International Conference on Language Resources and Evaluation (LREC 2018)*.\n",
    "2. Manuélian, H., Bruscand, A., Cholewka, N., Hetzel, A-M. (2010) Le Petit Larousse Illustré de 1905 en ligne: Présentation et secrets de fabrication, in Informatique et description de la langue d'hier et d'aujourd'hui, *ÉLA n°156*, octobre-décembre 2009, Klincksieck"
   ]
  },
  {
   "cell_type": "markdown",
   "id": "58912b48-b4aa-4d97-a93f-0fe2a8957aab",
   "metadata": {},
   "source": [
    "## Statistiques\n",
    "Le *Larousse* contient plus de 20 000 noms propres. La répartition par lettres est la suivante."
   ]
  },
  {
   "cell_type": "code",
   "execution_count": 1,
   "id": "857c1c15-cf8f-4633-8410-f0d7e5a95a69",
   "metadata": {},
   "outputs": [],
   "source": [
    "# suivant le site de nénufar\n",
    "alphabet = 'abcdefghijklmnopqrstuvwxyz'\n",
    "nbr_articles = [1687, 1618, 2174, 970, 736, 806, 1041, 687, 338, 394, 264, 1178, \n",
    "                1638, 494, 410, 1419, 90, 781, 1632, 805, 96, 610, 196, 16, 50, 104]"
   ]
  },
  {
   "cell_type": "code",
   "execution_count": 2,
   "id": "e103d9db-f66e-48f4-8fd5-40608ca5c2c5",
   "metadata": {},
   "outputs": [
    {
     "data": {
      "text/plain": [
       "[('a', 1687), ('b', 1618), ('c', 2175), ('d', 970), ('e', 737)]"
      ]
     },
     "execution_count": 2,
     "metadata": {},
     "output_type": "execute_result"
    }
   ],
   "source": [
    "# suivant mon décompte\n",
    "nbr_articles_réels = [1687, 1618, 2175, 970, 737, 805, 1042, 688, 338, 394, 264, 1181, \n",
    "                1641, 494, 410, 1419, 90, 782, 1633, 806, 96, 609, 196, 16, 50, 104]\n",
    "list(zip(alphabet, nbr_articles_réels))[:5]"
   ]
  },
  {
   "cell_type": "code",
   "execution_count": 3,
   "id": "9cfca924-d8bf-4055-a9c1-0dc9f06d3681",
   "metadata": {},
   "outputs": [
    {
     "data": {
      "text/plain": [
       "20245"
      ]
     },
     "execution_count": 3,
     "metadata": {},
     "output_type": "execute_result"
    }
   ],
   "source": [
    "sum(nbr_articles_réels)"
   ]
  },
  {
   "cell_type": "markdown",
   "id": "fbc8ed1e-8f9e-4ea4-b61e-08b85c29f48c",
   "metadata": {},
   "source": [
    "## Les fichiers\n",
    "La structure de données consiste en une liste d'articles où chaque article est un dictionnaire Python avec deux valeurs : le texte de l'article, `'texte'` et une liste d'identificateurs wikidata, `'qid'`. Le plus souvent, cette dernière liste ne contient qu'un élément. Chaque identificateur wikipedia est une chaîne de caractères, `Qnn` mais on pourrait imaginer un ensemble pour les concepts où l'article du *Larousse* ne serait pas exactement équivalent à un numéro wikidata.\n",
    "\n",
    "J'ai stocké cette liste dans un fichier JSON : `'larousse_1905_wd.json'`"
   ]
  },
  {
   "cell_type": "markdown",
   "id": "d3c9bd52-40bc-4a8a-a048-ca7038d16ca8",
   "metadata": {},
   "source": [
    "### Lecture du fichier JSON\n",
    "On lit le fichier qui contient les articles et les identificateurs wikidata avec le module `json` :"
   ]
  },
  {
   "cell_type": "code",
   "execution_count": 4,
   "id": "9fe5a0df-d771-49cd-9e8b-5a80f45b4a35",
   "metadata": {},
   "outputs": [],
   "source": [
    "import json\n",
    "with open('larousse_1905_wd.json', 'r') as f:\n",
    "    noms_propres_dicts = json.loads(f.read())"
   ]
  },
  {
   "cell_type": "markdown",
   "id": "6ca2abaa-66d5-4f39-b8fe-c2fb900d237c",
   "metadata": {},
   "source": [
    "Le premiers articles sont :"
   ]
  },
  {
   "cell_type": "code",
   "execution_count": 5,
   "id": "4bf0ea96-3358-4c9d-80e0-4a285fa1bfe5",
   "metadata": {},
   "outputs": [
    {
     "data": {
      "text/plain": [
       "[{'texte': \"AA (d'un mot germanique qui signifie eau, et qui est resté le nom d'un grand nombre de rivières des pays celtiques et germaniques). Fleuve côtier de France, qui baigne Saint-Omer et se jette dans la mer du Nord ; 80 kil.\",\n",
       "  'qid': ['Q300661']},\n",
       " {'texte': 'AALBORG, v. et port du Danemark, ch.-l. du diocèse de ce nom ; 31.500 h.',\n",
       "  'qid': ['Q25410']},\n",
       " {'texte': \"AALI-PACHA, homme d'Etat turc, né à Constantinople. Il a attaché son nom à la politique de réformes du Tanzimat (1815-1871).\",\n",
       "  'qid': ['Q439237']},\n",
       " {'texte': 'AAR, riv. de Suisse, qui naît au col du Grimsel, arrose Berne, Soleure, Aarau, reçoit la Reuss, la Limmat, la Thièle, et se jette dans le Rhin (r. g.) ; 280 kil.',\n",
       "  'qid': ['Q1675']},\n",
       " {'texte': \"AARAU, v. de Suisse, ch.-l. du cant. d'Argovie, sur l'Aar ; 7.000 h.\",\n",
       "  'qid': ['Q14274']}]"
      ]
     },
     "execution_count": 5,
     "metadata": {},
     "output_type": "execute_result"
    }
   ],
   "source": [
    "noms_propres_dicts[:5]"
   ]
  },
  {
   "cell_type": "markdown",
   "id": "c4a5d983-b377-488b-8cff-1430199b1280",
   "metadata": {},
   "source": [
    "### Les fichier textes"
   ]
  },
  {
   "cell_type": "markdown",
   "id": "c75f74a5-89e8-440d-af22-dae1642523ec",
   "metadata": {},
   "source": [
    "Pour chaque lettre, j'ai aussi créé des fichiers de texte tabulés pour une lecture plus facile. On peut aussi les utiliser même s'ils n'ont pas tous les numéros wikidata."
   ]
  },
  {
   "cell_type": "code",
   "execution_count": 6,
   "id": "68c6b2be-5e02-48fc-9a25-091a0149f138",
   "metadata": {},
   "outputs": [
    {
     "data": {
      "text/plain": [
       "['Larousse1905_A.tsv',\n",
       " 'Larousse1905_B.tsv',\n",
       " 'Larousse1905_C.tsv',\n",
       " 'Larousse1905_D.tsv',\n",
       " 'Larousse1905_E.tsv']"
      ]
     },
     "execution_count": 6,
     "metadata": {},
     "output_type": "execute_result"
    }
   ],
   "source": [
    "fichiers = ['Larousse1905_' + lettre.upper() + '.tsv' for lettre in alphabet]\n",
    "fichiers[:5]"
   ]
  },
  {
   "cell_type": "markdown",
   "id": "6dad09f5-7e65-4db8-9b40-66487eaf601e",
   "metadata": {},
   "source": [
    "On crée facilement une structure équivalente au document JSON"
   ]
  },
  {
   "cell_type": "code",
   "execution_count": 7,
   "id": "002699b9-066b-4c3f-8624-12760cd3b403",
   "metadata": {},
   "outputs": [],
   "source": [
    "noms_propres_dicts_vérif = []\n",
    "for fichier in fichiers:\n",
    "    with open(fichier) as f:\n",
    "        texte_f = f.read().strip()\n",
    "        lignes = texte_f.split('\\n')\n",
    "        for ligne in lignes:\n",
    "            (qid, texte) = ligne.strip().split('\\t')\n",
    "            article = dict()\n",
    "            article['qid'] = qid\n",
    "            article['texte'] = texte\n",
    "            noms_propres_dicts_vérif += [article]"
   ]
  },
  {
   "cell_type": "code",
   "execution_count": 8,
   "id": "366fca28-a8fa-48db-980f-e1886ce9533d",
   "metadata": {},
   "outputs": [
    {
     "data": {
      "text/plain": [
       "[{'qid': 'https://www.wikidata.org/wiki/Q300661',\n",
       "  'texte': \"AA (d'un mot germanique qui signifie eau, et qui est resté le nom d'un grand nombre de rivières des pays celtiques et germaniques). Fleuve côtier de France, qui baigne Saint-Omer et se jette dans la mer du Nord ; 80 kil.\"},\n",
       " {'qid': 'https://www.wikidata.org/wiki/Q25410',\n",
       "  'texte': 'AALBORG, v. et port du Danemark, ch.-l. du diocèse de ce nom ; 31.500 h.'},\n",
       " {'qid': 'https://www.wikidata.org/wiki/Q439237',\n",
       "  'texte': \"AALI-PACHA, homme d'Etat turc, né à Constantinople. Il a attaché son nom à la politique de réformes du Tanzimat (1815-1871).\"},\n",
       " {'qid': 'https://www.wikidata.org/wiki/Q1675',\n",
       "  'texte': 'AAR, riv. de Suisse, qui naît au col du Grimsel, arrose Berne, Soleure, Aarau, reçoit la Reuss, la Limmat, la Thièle, et se jette dans le Rhin (r. g.) ; 280 kil.'},\n",
       " {'qid': 'https://www.wikidata.org/wiki/Q14274',\n",
       "  'texte': \"AARAU, v. de Suisse, ch.-l. du cant. d'Argovie, sur l'Aar ; 7.000 h.\"}]"
      ]
     },
     "execution_count": 8,
     "metadata": {},
     "output_type": "execute_result"
    }
   ],
   "source": [
    "noms_propres_dicts_vérif[:5]"
   ]
  },
  {
   "cell_type": "markdown",
   "id": "519b46e2-71c5-44d1-b40a-6aa72913d8ff",
   "metadata": {},
   "source": [
    "## Extraction d'informations\n",
    "En appliquant des expressions régulières au texte des articles, on peut extraire des informations de domaines ou de type. Les dates de naissance et de décès sont un cas facile car elles suivent une forme très régulière dans le *Larousse*. Elles se composent de deux nombres entre parenthèses, par exemple (1800-1900). On peut les extraire avec une expression régulière très simple."
   ]
  },
  {
   "cell_type": "code",
   "execution_count": 9,
   "id": "772ae393-0b12-4088-94ab-34316bb3658d",
   "metadata": {},
   "outputs": [
    {
     "data": {
      "text/plain": [
       "5385"
      ]
     },
     "execution_count": 9,
     "metadata": {},
     "output_type": "execute_result"
    }
   ],
   "source": [
    "import regex as re\n",
    "cnt = 0\n",
    "for article in noms_propres_dicts:\n",
    "    dates = re.findall('[\\(\\[](\\p{N}+)-(\\p{N}+)\\.?[\\)\\]]', article['texte'])\n",
    "    if dates:\n",
    "        dates = [(int(date[0]), int(date[1])) for date in dates]\n",
    "        article['couples_dates'] = dates\n",
    "        #print(dates)\n",
    "        cnt += 1\n",
    "cnt"
   ]
  },
  {
   "cell_type": "markdown",
   "id": "75fe7754-1689-4ee3-a006-4dd800e99313",
   "metadata": {},
   "source": [
    "Avec la même méthode, on pourrait extraire beaucoup plus d'information."
   ]
  },
  {
   "cell_type": "markdown",
   "id": "dbf2fa4e-b242-4137-b191-68b8668080d7",
   "metadata": {},
   "source": [
    "## Extraction de données wikidata\n",
    "Le lien avec wikidata est la raison d'être de l'annotation. Il permet l'extraction des données du graphe. Dans le code qui va suivre, j'explique comment procéder avec quelques propriétés : la nature sémantique du nom propre, les dates de naissance et de décès et les coordonnées géographiques.\n",
    "\n",
    "Dans wikidata, la nature sémantique ressemble aux catégories d'Aristote, mais elle est beaucoup plus étendue. Une des catégories les plus importante est *être humain* avec l'identificateur `Q5`."
   ]
  },
  {
   "cell_type": "markdown",
   "id": "d5594492-21e0-46de-86e8-b5951626864f",
   "metadata": {},
   "source": [
    "### Le serveur\n",
    "Tout d'abord, je vais donner l'adresse du serveur d'où je vais extraire les données"
   ]
  },
  {
   "cell_type": "code",
   "execution_count": 10,
   "id": "2c9fe8a1-b25e-492c-8933-2f9c83c4b6a6",
   "metadata": {},
   "outputs": [],
   "source": [
    "url = 'https://query.wikidata.org/bigdata/namespace/wdq/sparql'"
   ]
  },
  {
   "cell_type": "markdown",
   "id": "28c27b61-80db-410f-8967-d20bc1e7c2a9",
   "metadata": {},
   "source": [
    "### Les requêtes\n",
    "Ensuite, j'ai besoin de quelques préfixes pour indiquer où wikidata doit chercher les propriétés"
   ]
  },
  {
   "cell_type": "code",
   "execution_count": 11,
   "id": "f0a417fa-0113-4626-8ca5-e8ad16e1c091",
   "metadata": {},
   "outputs": [],
   "source": [
    "préfixes = '''PREFIX wikibase: <http://wikiba.se/ontology#>\n",
    "PREFIX wd: <http://www.wikidata.org/entity/>\n",
    "PREFIX wdt: <http://www.wikidata.org/prop/direct/>\n",
    "PREFIX rdfs: <http://www.w3.org/2000/01/rdf-schema#>\n",
    "PREFIX p: <http://www.wikidata.org/prop/>\n",
    "PREFIX ps: <http://www.wikidata.org/prop/statement/>'''"
   ]
  },
  {
   "cell_type": "markdown",
   "id": "c6ba39ff-e471-4579-aeba-e239ea53a574",
   "metadata": {},
   "source": [
    "Un fois ceci fourni, je peux créer une requête wikidata. Ici, je vais extraire quatre propriétés de l'élément wikidata : la nature `P31`, la date de naissance si elle existe, `P569`, la date de décès, `P570`, et les coordonnées géographiques, `P625`, si elles existent aussi.\n",
    "\n",
    "En plus, je vais extraire le libellé, `rdfs:label`, et la description, `schema:description`, de l'élément en français et en anglais."
   ]
  },
  {
   "cell_type": "code",
   "execution_count": 12,
   "id": "88623dec-0f6d-4cde-b940-558588082b70",
   "metadata": {},
   "outputs": [],
   "source": [
    "def crée_requête(qid):\n",
    "    requête = '''\n",
    "    SELECT ?type ?dn ?dd ?libellé_fr ?desc_fr ?libellé_en ?desc_en ?geo\n",
    "    WHERE \n",
    "    {{\n",
    "        OPTIONAL {{\n",
    "            wd:{0}  wdt:P31 ?type .\n",
    "        }}\n",
    "        OPTIONAL {{\n",
    "            wd:{0} rdfs:label ?libellé_fr filter (lang(?libellé_fr) = \"fr\") .\n",
    "        }}\n",
    "        OPTIONAL {{\n",
    "            wd:{0} rdfs:label ?libellé_en filter (lang(?libellé_en) = \"en\") .\n",
    "        }}\n",
    "        OPTIONAL {{\n",
    "            wd:{0} schema:description ?desc_fr filter (lang(?desc_fr) = \"fr\") .\n",
    "        }}\n",
    "        OPTIONAL {{\n",
    "            wd:{0} schema:description ?desc_en filter (lang(?desc_en) = \"en\") .\n",
    "        }}\n",
    "        OPTIONAL {{\n",
    "            wd:{0} wdt:P569 ?dn .\n",
    "        }}\n",
    "        OPTIONAL {{\n",
    "            wd:{0} wdt:P570 ?dd .\n",
    "        }}\n",
    "        OPTIONAL {{\n",
    "            wd:{0}  wdt:P625 ?geo .\n",
    "        }}\n",
    "    }}'''.format(qid)\n",
    "    return requête"
   ]
  },
  {
   "cell_type": "markdown",
   "id": "f375cf07-4cf6-4e7e-b83c-a4662a0d0676",
   "metadata": {},
   "source": [
    "Pour le 1er article du *Larousse*, la rivière Aa, ça donne"
   ]
  },
  {
   "cell_type": "code",
   "execution_count": 13,
   "id": "9c93a38a-3d86-402b-b4fa-8495b520aca0",
   "metadata": {},
   "outputs": [
    {
     "data": {
      "text/plain": [
       "'\\n    SELECT ?type ?dn ?dd ?libellé_fr ?desc_fr ?libellé_en ?desc_en ?geo\\n    WHERE \\n    {\\n        OPTIONAL {\\n            wd:Q300661  wdt:P31 ?type .\\n        }\\n        OPTIONAL {\\n            wd:Q300661 rdfs:label ?libellé_fr filter (lang(?libellé_fr) = \"fr\") .\\n        }\\n        OPTIONAL {\\n            wd:Q300661 rdfs:label ?libellé_en filter (lang(?libellé_en) = \"en\") .\\n        }\\n        OPTIONAL {\\n            wd:Q300661 schema:description ?desc_fr filter (lang(?desc_fr) = \"fr\") .\\n        }\\n        OPTIONAL {\\n            wd:Q300661 schema:description ?desc_en filter (lang(?desc_en) = \"en\") .\\n        }\\n        OPTIONAL {\\n            wd:Q300661 wdt:P569 ?dn .\\n        }\\n        OPTIONAL {\\n            wd:Q300661 wdt:P570 ?dd .\\n        }\\n        OPTIONAL {\\n            wd:Q300661  wdt:P625 ?geo .\\n        }\\n    }'"
      ]
     },
     "execution_count": 13,
     "metadata": {},
     "output_type": "execute_result"
    }
   ],
   "source": [
    "requête = crée_requête('Q300661')\n",
    "requête"
   ]
  },
  {
   "cell_type": "markdown",
   "id": "ff2d19ac-6427-430f-904b-2734bb317779",
   "metadata": {},
   "source": [
    "### L'extraction\n",
    "Maintenant, je peux extraire les données de wikidata pour le premier article toujours. Le deux points correspondent à la source et à l'embouchure"
   ]
  },
  {
   "cell_type": "code",
   "execution_count": 14,
   "id": "d388f596-e1d2-4d89-97b0-69974e8e0bd5",
   "metadata": {},
   "outputs": [
    {
     "data": {
      "text/plain": [
       "[{'desc_en': {'xml:lang': 'en', 'type': 'literal', 'value': 'river in France'},\n",
       "  'desc_fr': {'xml:lang': 'fr', 'type': 'literal', 'value': 'fleuve français'},\n",
       "  'libellé_en': {'xml:lang': 'en', 'type': 'literal', 'value': 'Aa River'},\n",
       "  'libellé_fr': {'xml:lang': 'fr', 'type': 'literal', 'value': 'Aa'},\n",
       "  'type': {'type': 'uri', 'value': 'http://www.wikidata.org/entity/Q4022'},\n",
       "  'geo': {'datatype': 'http://www.opengis.net/ont/geosparql#wktLiteral',\n",
       "   'type': 'literal',\n",
       "   'value': 'Point(1.9342 50.6069)'}},\n",
       " {'desc_en': {'xml:lang': 'en', 'type': 'literal', 'value': 'river in France'},\n",
       "  'desc_fr': {'xml:lang': 'fr', 'type': 'literal', 'value': 'fleuve français'},\n",
       "  'libellé_en': {'xml:lang': 'en', 'type': 'literal', 'value': 'Aa River'},\n",
       "  'libellé_fr': {'xml:lang': 'fr', 'type': 'literal', 'value': 'Aa'},\n",
       "  'type': {'type': 'uri', 'value': 'http://www.wikidata.org/entity/Q4022'},\n",
       "  'geo': {'datatype': 'http://www.opengis.net/ont/geosparql#wktLiteral',\n",
       "   'type': 'literal',\n",
       "   'value': 'Point(2.0932 51.0151)'}}]"
      ]
     },
     "execution_count": 14,
     "metadata": {},
     "output_type": "execute_result"
    }
   ],
   "source": [
    "import requests\n",
    "données_wd = requests.get(url, params={'query': préfixes + requête, 'format': 'json'}).json()\n",
    "données_wd['results']['bindings']"
   ]
  },
  {
   "cell_type": "markdown",
   "id": "185318b4-aa42-46b0-90e7-1dceea9122c6",
   "metadata": {},
   "source": [
    "Maintenant, on peut lancer les requêtes pour tous les articles"
   ]
  },
  {
   "cell_type": "code",
   "execution_count": null,
   "id": "b8ee6e0b-3035-467f-aed8-98c27a6eee1e",
   "metadata": {},
   "outputs": [
    {
     "name": "stderr",
     "output_type": "stream",
     "text": [
      " 30%|███       | 6/20 [00:20<00:35,  2.50s/it]"
     ]
    }
   ],
   "source": [
    "from tqdm import tqdm\n",
    "import time\n",
    "\n",
    "for article in tqdm(noms_propres_dicts):\n",
    "    requête = crée_requête(article['qid'][0])\n",
    "    try:\n",
    "        données_wd = requests.get(url, params={'query': préfixes + requête, 'format': 'json'}).json()\n",
    "        time.sleep(1.5)\n",
    "        if données_wd['results']['bindings']:\n",
    "            article['wikidata'] = données_wd['results']['bindings']\n",
    "    except:\n",
    "        pass"
   ]
  },
  {
   "cell_type": "code",
   "execution_count": null,
   "id": "e1a843fa-29e7-4a14-824c-d19bbf27e4b3",
   "metadata": {},
   "outputs": [],
   "source": [
    "noms_propres_dicts[:3]"
   ]
  },
  {
   "cell_type": "markdown",
   "id": "9d281272-20d9-488d-bec5-f9edb6eec10c",
   "metadata": {},
   "source": [
    "Un fois l'extraction réalisée, on enregistre le fichier sous un nouveau nom."
   ]
  },
  {
   "cell_type": "code",
   "execution_count": null,
   "id": "1412ba56-fd68-40d1-b522-3f239443e128",
   "metadata": {},
   "outputs": [],
   "source": [
    "with open('larousse_1905_wd_extraction.json', 'w') as f:\n",
    "    json.dump(noms_propres_dicts, f)"
   ]
  },
  {
   "cell_type": "markdown",
   "id": "7b29980f-8a52-4cf0-9966-3ddf8432fe09",
   "metadata": {},
   "source": [
    "## Nature des noms propres\n",
    "Grâce à wikidata, on peut connaître la nature des noms propres et dresser quelques statistiques. On extraie les types de la requête et on les ajoute à l'article."
   ]
  },
  {
   "cell_type": "code",
   "execution_count": null,
   "id": "8c44e14d-1a19-46e2-9b5b-2c10f2bd87db",
   "metadata": {},
   "outputs": [],
   "source": [
    "for article in noms_propres_dicts:\n",
    "    try:\n",
    "        types_wd = set() # Pour enlever les doublons\n",
    "        for desc in article['wikidata']:\n",
    "            types_wd.add(desc['type']['value'])\n",
    "        article['types_wd'] = types_wd\n",
    "    except:\n",
    "        pass"
   ]
  },
  {
   "cell_type": "code",
   "execution_count": null,
   "id": "3cd2a901-1aff-41b3-96b7-d4fc1d2f1b71",
   "metadata": {},
   "outputs": [],
   "source": [
    "noms_propres_dicts[:3]"
   ]
  },
  {
   "cell_type": "markdown",
   "id": "61cfe601-7ab6-46f6-9839-f464daa1c0b8",
   "metadata": {},
   "source": [
    "On concatène tous les types du dictionnaires dans une liste"
   ]
  },
  {
   "cell_type": "code",
   "execution_count": null,
   "id": "7f7ec389-8f3c-45c3-82d7-460abedf3c8f",
   "metadata": {},
   "outputs": [],
   "source": [
    "types = []\n",
    "for article in noms_propres_dicts:\n",
    "    if 'types_wd' in article:\n",
    "        types += list(article['types_wd'])\n",
    "types[:10]"
   ]
  },
  {
   "cell_type": "markdown",
   "id": "f4348a0f-e67f-475c-8aa0-d2e7e3f8998e",
   "metadata": {},
   "source": [
    "Enfin, on compte les types et on les ordonne par fréquence."
   ]
  },
  {
   "cell_type": "code",
   "execution_count": null,
   "id": "238fb46c-7f8e-4817-90a7-cc6cb00d0b07",
   "metadata": {},
   "outputs": [],
   "source": [
    "from collections import Counter\n",
    "type_cnt = Counter(types)\n",
    "type_cnt.most_common(10)"
   ]
  },
  {
   "cell_type": "markdown",
   "id": "1585e15a-c10f-49a4-8577-fa87b6268c02",
   "metadata": {},
   "source": [
    "## Concordances des dates\n",
    "On peut de la même manière extraire les dates de naissance et de décès de wikidata."
   ]
  },
  {
   "cell_type": "code",
   "execution_count": null,
   "id": "bd99b75c-24a7-4056-b211-77e6e4c2b825",
   "metadata": {},
   "outputs": [],
   "source": [
    "for article in noms_propres_dicts:\n",
    "    try:\n",
    "        wd_dates_vie = (int(re.search('^-?\\p{N}+', article['wikidata'][0]['dn']['value']).group()), \n",
    "              int(re.search('^-?\\p{N}+', article['wikidata'][0]['dd']['value']).group()))\n",
    "        article['wd_dates_vie'] = wd_dates_vie\n",
    "    except:\n",
    "        pass"
   ]
  },
  {
   "cell_type": "markdown",
   "id": "13d52fc6-dcf7-42e2-ba66-c5f62c23d2ea",
   "metadata": {},
   "source": [
    "Et vérifier si elles concordent avec celles du *Larousse*."
   ]
  },
  {
   "cell_type": "code",
   "execution_count": null,
   "id": "5259d32f-3fd1-4e48-b8cf-70f81193d942",
   "metadata": {},
   "outputs": [],
   "source": [
    "cnt_dates_concords = 0\n",
    "cnt_dates = 0\n",
    "for article in noms_propres_dicts:\n",
    "    try:\n",
    "        if article['wd_dates_vie'] == article['couples_dates'][0]:\n",
    "            cnt_dates_concords += 1\n",
    "        cnt_dates += 1\n",
    "    except:\n",
    "        pass\n",
    "cnt_dates_concords, cnt_dates, cnt_dates_concords/cnt_dates"
   ]
  },
  {
   "cell_type": "markdown",
   "id": "ab353a53-0559-43d0-b729-9c45f75b18ae",
   "metadata": {},
   "source": [
    "## Coordonnées\n",
    "Enfin, on extraie les coordonnées des lieux géographiques"
   ]
  },
  {
   "cell_type": "code",
   "execution_count": null,
   "id": "2c7c18ec-9357-4e4e-ad03-74033806ee43",
   "metadata": {},
   "outputs": [],
   "source": [
    "for article in noms_propres_dicts:\n",
    "    try:\n",
    "        coords_wd = set() # Pour enlever les doublons comme pour les communes suisses\n",
    "        for desc in article['wikidata']:\n",
    "            coords_wd.add(desc['geo']['value'])\n",
    "        article['coords_wd'] = coords_wd\n",
    "    except:\n",
    "        pass"
   ]
  },
  {
   "cell_type": "markdown",
   "id": "aeb4d7be-e768-40fa-9b1e-61686e6fd4fc",
   "metadata": {},
   "source": [
    "## Cartographie"
   ]
  },
  {
   "cell_type": "markdown",
   "id": "dbb85eee-3531-48d5-a323-b2eb13a9a84a",
   "metadata": {},
   "source": [
    "On dresse la liste de toutes les coordonnées de tous les noms propres"
   ]
  },
  {
   "cell_type": "code",
   "execution_count": null,
   "id": "9722fb0e-7e1e-49d0-a33d-878f339e617e",
   "metadata": {},
   "outputs": [],
   "source": [
    "coords = []\n",
    "for article in noms_propres_dicts:\n",
    "    try:\n",
    "        coords += list(article['coords_wd'])\n",
    "    except:\n",
    "        pass\n",
    "coords[:5]"
   ]
  },
  {
   "cell_type": "code",
   "execution_count": null,
   "id": "e6dda9c1-2b83-4fda-b429-3a9a36729e46",
   "metadata": {},
   "outputs": [],
   "source": [
    "import pandas as pd\n",
    "from shapely import wkt\n",
    "df = pd.DataFrame({'Coordonnées': coords})\n",
    "df['Coordonnées'] = df['Coordonnées'].apply(wkt.loads)"
   ]
  },
  {
   "cell_type": "markdown",
   "id": "9b5618a4-692c-4964-820c-7c47e8a40f9a",
   "metadata": {},
   "source": [
    "Et on place les points sur une carte du monde"
   ]
  },
  {
   "cell_type": "code",
   "execution_count": null,
   "id": "78462615-4c82-43f8-aead-adaca4dbc672",
   "metadata": {},
   "outputs": [],
   "source": [
    "import geopandas\n",
    "gdf = geopandas.GeoDataFrame(df, geometry='Coordonnées')"
   ]
  },
  {
   "cell_type": "code",
   "execution_count": null,
   "id": "f5995aa1-8ab3-4caa-9f01-6380a16f524e",
   "metadata": {},
   "outputs": [],
   "source": [
    "world = geopandas.read_file(geopandas.datasets.get_path('naturalearth_lowres'))"
   ]
  },
  {
   "cell_type": "code",
   "execution_count": null,
   "id": "0c3c1119-e2eb-4854-b72a-c4b56e2b5cef",
   "metadata": {},
   "outputs": [],
   "source": [
    "import matplotlib.pyplot as plt\n",
    "ax = world.plot(\n",
    "    color='white', edgecolor='black', figsize=(20,30))\n",
    "gdf.plot(ax=ax, color='red')\n",
    "plt.savefig('villes')\n",
    "plt.show()"
   ]
  },
  {
   "cell_type": "code",
   "execution_count": null,
   "id": "c5d5a3cc-4613-4a48-94ec-687e3a75c25b",
   "metadata": {},
   "outputs": [],
   "source": []
  }
 ],
 "metadata": {
  "kernelspec": {
   "display_name": "Python 3",
   "language": "python",
   "name": "python3"
  },
  "language_info": {
   "codemirror_mode": {
    "name": "ipython",
    "version": 3
   },
   "file_extension": ".py",
   "mimetype": "text/x-python",
   "name": "python",
   "nbconvert_exporter": "python",
   "pygments_lexer": "ipython3",
   "version": "3.8.10"
  }
 },
 "nbformat": 4,
 "nbformat_minor": 5
}
